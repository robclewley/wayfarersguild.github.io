{
 "cells": [
  {
   "cell_type": "markdown",
   "metadata": {},
   "source": [
    "Write your post here."
   ]
  }
 ],
 "metadata": {
  "kernelspec": {
   "display_name": "Python 3",
   "env": {},
   "language": "python",
   "name": "python3"
  },
  "nikola": {
   "category": "",
   "date": "2018-12-06 17:51:53 UTC-05:00",
   "description": "",
   "link": "",
   "slug": "our-core-values",
   "tags": "",
   "title": "Our Core Values",
   "type": "text"
  }
 },
 "nbformat": 4,
 "nbformat_minor": 2
}
